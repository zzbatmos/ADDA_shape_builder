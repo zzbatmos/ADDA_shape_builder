{
  "nbformat": 4,
  "nbformat_minor": 0,
  "metadata": {
    "colab": {
      "name": "ADDA_shape_builder.ipynb",
      "provenance": [],
      "collapsed_sections": [],
      "mount_file_id": "155JaWRg02wFIYrXl7sSCN3PlEEXBD8jL",
      "authorship_tag": "ABX9TyOZX6pUcr/V1MDuakYc6kL7",
      "include_colab_link": true
    },
    "kernelspec": {
      "name": "python3",
      "display_name": "Python 3"
    },
    "language_info": {
      "name": "python"
    }
  },
  "cells": [
    {
      "cell_type": "markdown",
      "metadata": {
        "id": "view-in-github",
        "colab_type": "text"
      },
      "source": [
        "<a href=\"https://colab.research.google.com/github/zzbatmos/ADDA_shape_builder/blob/main/ADDA_shape_builder.ipynb\" target=\"_parent\"><img src=\"https://colab.research.google.com/assets/colab-badge.svg\" alt=\"Open In Colab\"/></a>"
      ]
    },
    {
      "cell_type": "markdown",
      "metadata": {
        "id": "BQzD7zttu_DE"
      },
      "source": [
        "# Define shapes of aerosol particles as inputs for ADDA scattering model \n",
        "## Author: Zhibo Zhang (zhibo.zhang@umbc.edu)\n",
        "## First Developed in 2021\n"
      ]
    },
    {
      "cell_type": "code",
      "metadata": {
        "id": "kwCfSGtM94aT",
        "colab": {
          "base_uri": "https://localhost:8080/"
        },
        "outputId": "7c637c37-1643-4a5d-c7e6-2d53144a9ca7"
      },
      "source": [
        "import numpy as np\n",
        "import matplotlib.pyplot as plt\n",
        "import importlib\n",
        "if importlib.util.find_spec(\"pyny3d\") is None:\n",
        "  !pip install pyny3d\n",
        "import pyny3d.geoms as pyny\n",
        "import plotly.graph_objects as go\n",
        "!pip install kaleido\n",
        "import plotly.io as pio\n"
      ],
      "execution_count": 1,
      "outputs": [
        {
          "output_type": "stream",
          "name": "stdout",
          "text": [
            "Requirement already satisfied: kaleido in /usr/local/lib/python3.7/dist-packages (0.2.1)\n"
          ]
        }
      ]
    },
    {
      "cell_type": "code",
      "metadata": {
        "id": "BOrpPljCyi8u"
      },
      "source": [
        "%%capture\n",
        "!pip install kaleido\n",
        "!pip install plotly>=4.0.0\n",
        "!wget https://github.com/plotly/orca/releases/download/v1.2.1/orca-1.2.1-x86_64.AppImage -O /usr/local/bin/orca\n",
        "!chmod +x /usr/local/bin/orca\n",
        "!apt-get install xvfb libgtk2.0-0 libgconf-2-4"
      ],
      "execution_count": 2,
      "outputs": []
    },
    {
      "cell_type": "markdown",
      "metadata": {
        "id": "VYlTO6mVaIFp"
      },
      "source": [
        "## define the basic blocks for building a polyhedron"
      ]
    },
    {
      "cell_type": "code",
      "metadata": {
        "id": "iwitUABt0V20"
      },
      "source": [
        "class plane(object):\n",
        "  \"\"\"\n",
        "  This routine defines a plane, including the normal direction \n",
        "  and a point on the plane.\n",
        "  self.N : normal direction of the plane\n",
        "  self.P0: a point on the plane\n",
        "  self.standard_para: the parameters to describe a plane\n",
        "  Ax+By+Cz=D\n",
        "  \"\"\"\n",
        "  def __init__(self, norm_theta, norm_phi, point_on_plane):\n",
        "    norm_vector = np.array([np.sin(norm_theta)*np.cos(norm_phi),\n",
        "                            np.sin(norm_theta)*np.sin(norm_phi),\n",
        "                            np.cos(norm_theta)])\n",
        "    self.N  = norm_vector\n",
        "    self.P0 = point_on_plane\n",
        "    NdotP0 = np.sum(self.N*self.P0)\n",
        "    self.standard_para = np.array([self.N[0],self.N[1],self.N[2],-NdotP0])\n",
        "\n",
        "class intersect(plane):\n",
        "  \"\"\"\n",
        "  This routine defines the intersect point of three planes\n",
        "  It is used later to determine the vertext of an irregular polyhedron\n",
        "  \"\"\"\n",
        "  def __init__(self,plane_list):\n",
        "    from numpy.linalg import matrix_rank,solve \n",
        "    M = np.zeros([3,3])\n",
        "    MA = np.zeros([3,4])\n",
        "    B = np.zeros(3)\n",
        "    for i in range(3):\n",
        "      M[i,:]=plane_list[i].standard_para[0:-1]\n",
        "      MA[i,:]=plane_list[i].standard_para\n",
        "      B[i] = plane_list[i].standard_para[-1]\n",
        "    r1 = matrix_rank(M)\n",
        "    rp = matrix_rank(MA)\n",
        "    # print('rank',r1,rp)\n",
        "    # print(M)\n",
        "    if (r1==3) and (rp==3):\n",
        "      self.J=solve(M,-B)\n",
        "    else:\n",
        "      \n",
        "      self.J=None\n",
        "    \n",
        "\n",
        "\n"
      ],
      "execution_count": 3,
      "outputs": []
    },
    {
      "cell_type": "markdown",
      "metadata": {
        "id": "pvIc5h9maZX7"
      },
      "source": [
        "## define some basic polyhedra such as cube and irregular hexadron"
      ]
    },
    {
      "cell_type": "code",
      "metadata": {
        "id": "HAtZ_MSR16sP"
      },
      "source": [
        "class cube():\n",
        "  \"\"\"\n",
        "  This routine describes a cube shape by defining its\n",
        "  six faces and the corresponding interesct points (vertex)\n",
        "  \"\"\"\n",
        "  def __init__(self,):\n",
        "    self.faces = []\n",
        "    N0_theta,N0_phi = np.pi/2.0, -np.pi/2.0\n",
        "    P0=np.array([0.5,0,0.5])\n",
        "    self.faces.append(plane(N0_theta, N0_phi,P0))\n",
        "    print('face0',self.faces[-1].N)\n",
        "\n",
        "    N1_theta,N1_phi = np.pi/2.0, 0.0\n",
        "    P1=np.array([1.0,0.5,0.5])\n",
        "    self.faces.append(plane(N1_theta, N1_phi,P1))\n",
        "    print('face1',self.faces[-1].N)\n",
        "\n",
        "    N2_theta,N2_phi = np.pi/2.0, np.pi/2.0\n",
        "    P2=np.array([0.5,1.0,0.5])\n",
        "    self.faces.append(plane(N2_theta, N2_phi,P2))\n",
        "    print('face2',self.faces[-1].N)\n",
        "\n",
        "    N3_theta,N3_phi = np.pi/2.0, np.pi\n",
        "    P3=np.array([0.0,0.5,0.5])\n",
        "    self.faces.append(plane(N3_theta, N3_phi,P3))\n",
        "    print('face3',self.faces[-1].N)\n",
        "\n",
        "    N4_theta,N4_phi = np.pi, 0.0\n",
        "    P4=np.array([0.5,0.5,0.0])\n",
        "    self.faces.append(plane(N4_theta, N4_phi,P4))\n",
        "    print('face4',self.faces[-1].N)\n",
        "\n",
        "    N5_theta,N5_phi = 0.0, 0.0\n",
        "    P5=np.array([0.5,0.5,1.0])\n",
        "    self.faces.append(plane(N5_theta, N5_phi,P5))\n",
        "    print('face5',self.faces[-1].N)\n",
        "\n",
        "    self.vertices = []\n",
        "    P=intersect([self.faces[0],self.faces[3],self.faces[4]])\n",
        "    self.vertices.append(P)\n",
        "\n",
        "    P=intersect([self.faces[0],self.faces[3],self.faces[5]])\n",
        "    self.vertices.append(P)\n",
        "\n",
        "    P=intersect([self.faces[0],self.faces[1],self.faces[4]])\n",
        "    self.vertices.append(P)\n",
        "\n",
        "    P=intersect([self.faces[0],self.faces[1],self.faces[5]])\n",
        "    self.vertices.append(P)\n",
        "\n",
        "    P=intersect([self.faces[2],self.faces[3],self.faces[4]])\n",
        "    self.vertices.append(P)\n",
        "\n",
        "    P=intersect([self.faces[2],self.faces[3],self.faces[5]])\n",
        "    self.vertices.append(P)\n",
        "\n",
        "    P=intersect([self.faces[2],self.faces[1],self.faces[4]])\n",
        "    self.vertices.append(P)\n",
        "\n",
        "    P=intersect([self.faces[2],self.faces[1],self.faces[5]])\n",
        "    self.vertices.append(P)\n",
        "\n",
        "class irragular_hexahedron():\n",
        "  \"\"\"\n",
        "  This routine defines an irragular hexahedron, which is generated by perturbing\n",
        "  the faces of a regular cube\n",
        "  \"\"\"\n",
        "  def __init__(self,x,yx_ratio=1,zx_ratio=1,\n",
        "               randomly_purturb = True,\n",
        "               theta_perturb_max=np.pi/20,phi_perturb_max=np.pi/20,\n",
        "               theta_perturb_array=np.array([np.pi/21.0,\n",
        "                                            -np.pi/21.0,\n",
        "                                            -np.pi/18.0,\n",
        "                                             np.pi/25.0,\n",
        "                                            -np.pi/19.0,\n",
        "                                             np.pi/25.0]),\n",
        "               phi_perturb_array=np.array([np.pi/22.0,\n",
        "                                            -np.pi/23.0,\n",
        "                                            -np.pi/17.0,\n",
        "                                             np.pi/19.0,\n",
        "                                            -np.pi/24.0,\n",
        "                                             np.pi/26.0]),\n",
        "               write_obj_file=False,plot_figre=False):\n",
        "    self.x=x            # x dimention length\n",
        "    self.y=x*yx_ratio   # y dimension length\n",
        "    self.z=x*zx_ratio   # z dimension length\n",
        "    self.nv = 8         # numer of vertices\n",
        "    self.nf = 6         # number of faces\n",
        "    # the normal direction of each faces is determined by two angles in \n",
        "    # spherical coordinate (theta, phi)\n",
        "\n",
        "    # theta angles of the normal direction of each face\n",
        "    fn_theta = np.array([np.pi,np.pi/2.0,np.pi/2.0,\n",
        "                         np.pi/2.0,np.pi/2.0,0.0]) \n",
        "    # randomly perturb the theta direction\n",
        "    if randomly_purturb:\n",
        "      fn_theta += np.random.randn(self.nf)*theta_perturb_max\n",
        "    else:\n",
        "      fn_theta += theta_perturb_array\n",
        "    # phi angles of the normal direction of each face\n",
        "    fn_phi   = np.array([0.0,np.pi,np.pi/2.0,\n",
        "                         0.0,-np.pi/2.0,0.0,])\n",
        "    # randomly perturb the phi direction\n",
        "    if randomly_purturb:\n",
        "      fn_phi += np.random.randn(self.nf)*phi_perturb_max\n",
        "    else:\n",
        "      fn_phi += phi_perturb_array\n",
        "\n",
        "    # coordinate of the center point of each face\n",
        "    P0 = np.array([[self.x/2.0,self.y/2.0,0.0], # bottom\n",
        "                  [0.0,self.y/2.0,self.z/2.0],  # Left\n",
        "                  [self.x/2.0,self.y,self.z/2.0], # back\n",
        "                  [self.x,self.y/2.0,self.z/2.0],  # right\n",
        "                  [self.x/2.0,0.0,self.z/2.0],    # front\n",
        "                  [self.x/2.0,self.y/2.0,self.z]]) # top\n",
        "    \n",
        "    self.faces = []\n",
        "    for i in range(self.nf):\n",
        "      self.faces.append(plane(fn_theta[i], \n",
        "                              fn_phi[i],\n",
        "                              P0[i,:]))\n",
        "    \n",
        "    \n",
        "    self.face_combination=np.array([[0,1,4],\n",
        "                               [1,4,5],\n",
        "                               [0,1,2],\n",
        "                               [1,2,5],\n",
        "                               [0,3,4],\n",
        "                               [3,4,5],\n",
        "                               [0,2,3],\n",
        "                               [2,3,5]])\n",
        "    \n",
        "    # find the coordinate of each vertex by computing the intersect of\n",
        "    # each three faces \n",
        "    self.vertices = []\n",
        "    for j in range(self.nv):\n",
        "      P=intersect([self.faces[self.face_combination[j,k]] for k in range(3)])\n",
        "      self.vertices.append(P)\n",
        "    \n",
        "    self.vertex_combination = np.array([[0,2,6,4],\n",
        "                                        [0,1,3,2],\n",
        "                                        [2,3,7,6],\n",
        "                                        [4,5,7,6],\n",
        "                                        [0,1,5,4],\n",
        "                                        [1,3,7,5]])\n",
        "    face_list = []\n",
        "    for f in range(self.nf):\n",
        "      face=np.array([self.vertices[self.vertex_combination[f,i]].J \n",
        "                     for i in range(4)])\n",
        "      face_list.append(pyny.Polygon(face))\n",
        "    self.final_shape=pyny.Polyhedron(face_list)\n",
        "    if plot_figre: self.final_shape.plot(color='t')\n",
        "    domain_vortex = self.final_shape.get_domain()\n",
        "    print('domain_vortex',domain_vortex)\n",
        "    vertex_write_order=np.array([[1,  7,  5],\n",
        "                                [1,  3,  7],\n",
        "                                [1,  4,  3],\n",
        "                                [1,  2,  4],\n",
        "                                [3,  8,  7],\n",
        "                                [3,  4,  8],\n",
        "                                [5,  7,  8],\n",
        "                                [5,  8,  6], \n",
        "                                [1,  5,  6],\n",
        "                                [1,  6,  2],\n",
        "                                [2,  6,  8],\n",
        "                                [2,  8,  4]])\n",
        "\n",
        "    nl,_=vertex_write_order.shape\n",
        "    if write_obj_file:\n",
        "      with open('asym_box.obj','w') as fout:\n",
        "        fout.write('# asymmetric box object\\n')\n",
        "        for i in range(self.nv):\n",
        "          fout.write('v {0:7.3f} {1:7.3f} {2:7.3f} \\n'.format(self.vertices[i].J[0],\n",
        "                                                              self.vertices[i].J[1],\n",
        "                                                              self.vertices[i].J[2]))\n",
        "        for f in range(nl):\n",
        "          #print(f,vertex_write_order[f,:])\n",
        "          fout.write('f {0:2d} {1:2d} {2:2d} \\n'.format(vertex_write_order[f,0],\n",
        "                                                        vertex_write_order[f,1],\n",
        "                                                        vertex_write_order[f,2]))\n",
        "      \n",
        "      "
      ],
      "execution_count": 4,
      "outputs": []
    },
    {
      "cell_type": "code",
      "metadata": {
        "colab": {
          "base_uri": "https://localhost:8080/"
        },
        "id": "YM46uNArX22o",
        "outputId": "00a55d04-7a91-4f06-d7b4-e4070d7eaedc"
      },
      "source": [
        "B=irragular_hexahedron(1.0,yx_ratio=1,zx_ratio=3.0,\n",
        "                       randomly_purturb = False,write_obj_file=True)\n",
        "#B=asym_box2(1.0,write_obj_file=True)"
      ],
      "execution_count": 5,
      "outputs": [
        {
          "output_type": "stream",
          "name": "stdout",
          "text": [
            "domain_vortex [[-0.29414859 -0.31822007 -0.04783876]\n",
            " [ 1.24095497  1.36821646  3.03988679]]\n"
          ]
        }
      ]
    },
    {
      "cell_type": "markdown",
      "metadata": {
        "id": "1Qy5hSXbvrb7"
      },
      "source": [
        "## Build Irragular Hexahedron and write .geom file\n",
        "\n"
      ]
    },
    {
      "cell_type": "code",
      "metadata": {
        "id": "98YMgI9Eht7N"
      },
      "source": [
        "class ADDA_irragular_hexahedron():\n",
        "  \n",
        "  def __init__(self,wavelength, dpl,x,yx_ratio=1.0,zx_ratio=1.0,\n",
        "                                randomly_purturb = True,\n",
        "                                theta_perturb_max=np.pi/20,phi_perturb_max=np.pi/20,\n",
        "                                theta_perturb_array=np.array([np.pi/21.0,\n",
        "                                            -np.pi/21.0,\n",
        "                                            -np.pi/18.0,\n",
        "                                             np.pi/25.0,\n",
        "                                            -np.pi/19.0,\n",
        "                                             np.pi/25.0]),\n",
        "                                phi_perturb_array=np.array([np.pi/22.0,\n",
        "                                            -np.pi/23.0,\n",
        "                                            -np.pi/17.0,\n",
        "                                             np.pi/19.0,\n",
        "                                            -np.pi/24.0,\n",
        "                                             np.pi/26.0]),\n",
        "                              write_geom_file=False,plotly_rendering=False):\n",
        "    irr_hex = irragular_hexahedron(x,yx_ratio=yx_ratio,zx_ratio=zx_ratio,\n",
        "                                   randomly_purturb = randomly_purturb,\n",
        "                                   theta_perturb_max=theta_perturb_max,\n",
        "                                   phi_perturb_max=phi_perturb_max,\n",
        "                                   theta_perturb_array=theta_perturb_array,\n",
        "                                   phi_perturb_array=phi_perturb_array)\n",
        "    print(irr_hex.x)\n",
        "    r0,r1=irr_hex.final_shape.get_domain()\n",
        "    dipole_d=wavelength/dpl\n",
        "    dipole_r=dipole_d/2.0\n",
        "\n",
        "    nx,ny,nz = (np.array([r1[i]-r0[i] for i in [0,1,2]])/dipole_d).astype(int)\n",
        "    print('domain size',nx,ny,nz)\n",
        "    inside = np.ones((nx, ny, nz), dtype=bool)\n",
        "    x = np.zeros((nx, ny, nz))\n",
        "    y = np.zeros((nx, ny, nz))\n",
        "    z = np.zeros((nx, ny, nz))\n",
        "    #index =  np.zeros((nx, ny, nz, 3), dtype=int)\n",
        "    for ix in range(nx):\n",
        "      for iy in range(ny):\n",
        "        for iz in range(nz):\n",
        "          # coordinate of a point in the domain\n",
        "          x[ix,iy,iz] = r0[0] + ix*dipole_d + dipole_r\n",
        "          y[ix,iy,iz] = r0[1] + iy*dipole_d + dipole_r\n",
        "          z[ix,iy,iz] = r0[2] + iz*dipole_d + dipole_r\n",
        "          r=np.array([x[ix,iy,iz],y[ix,iy,iz],z[ix,iy,iz]])\n",
        "          for f in range(irr_hex.nf):\n",
        "            P0mr=irr_hex.faces[f].P0 - r\n",
        "            P0mr_dot_fn = np.sum(P0mr*irr_hex.faces[f].N)\n",
        "            if P0mr_dot_fn < 0:\n",
        "              inside[ix,iy,iz]=False\n",
        "              break\n",
        "    \n",
        "    print('volume',np.sum(inside),inside.size)\n",
        "    if write_geom_file:\n",
        "      geom_filename = 'irragular_hexahedron_wl{0:04.2f}_dpl{1:03d}_x{2:05.2f}_yxr{3:04.2f}_zxr{4:04.2f}.geom'.format(wavelength,int(dpl),irr_hex.x,yx_ratio,zx_ratio)\n",
        "      print('writing',geom_filename)\n",
        "      with open( geom_filename,'w') as fout:\n",
        "        fout.write('#generated by Zhibo Zhang Python script\\n')\n",
        "        fout.write('#shape: irragular hexahedron \\n')\n",
        "        fout.write('#box size: {0:}x{1:}x{2:} \\n'.format(nx,ny,nz))\n",
        "        for ix in range(nx):\n",
        "          for iy in range(ny):\n",
        "            for iz in range(nz):\n",
        "              if inside[ix,iy,iz]:\n",
        "                fout.write('{0:} {1:} {2:}\\n'.format(ix,iy,iz))\n",
        "\n",
        "    if plotly_rendering:\n",
        "      values = inside.astype(float)\n",
        "      \n",
        "      fig = go.Figure(data=go.Volume(\n",
        "        x=x.flatten(),\n",
        "        y=y.flatten(),\n",
        "        z=z.flatten(),\n",
        "        value=values.flatten(),\n",
        "        isomin=0.9,\n",
        "        isomax=1.1,\n",
        "        opacity=0.3, # needs to be small to see through all surfaces\n",
        "        surface_count=17, # needs to be a large number for good volume rendering\n",
        "        ))\n",
        "      fig.write_image('ADDA_irragular_hexahedron.png')\n",
        "\n",
        "    return\n",
        "  "
      ],
      "execution_count": 6,
      "outputs": []
    },
    {
      "cell_type": "code",
      "metadata": {
        "colab": {
          "base_uri": "https://localhost:8080/"
        },
        "id": "ddRx_ZaanaEv",
        "outputId": "bb064dc2-a68c-4fa8-94aa-3552c8379954"
      },
      "source": [
        "cb =ADDA_irragular_hexahedron(0.55, 20,1,yx_ratio=1.0,zx_ratio=2.0, randomly_purturb=False,\n",
        "                              write_geom_file=True,plotly_rendering=True)"
      ],
      "execution_count": 7,
      "outputs": [
        {
          "output_type": "stream",
          "name": "stdout",
          "text": [
            "domain_vortex [[-0.21047843 -0.24220659 -0.0569566 ]\n",
            " [ 1.19060123  1.26832671  2.05151408]]\n",
            "1\n",
            "domain size 50 54 76\n",
            "volume 94739 205200\n",
            "writing irragular_hexahedron_wl0.55_dpl020_x01.00_yxr1.00_zxr2.00.geom\n"
          ]
        }
      ]
    },
    {
      "cell_type": "markdown",
      "metadata": {
        "id": "Q2-rqG7STYTX"
      },
      "source": [
        "## define an irregular hexahedron coated with sphere"
      ]
    },
    {
      "cell_type": "code",
      "metadata": {
        "id": "ZU8S99d1dOcu"
      },
      "source": [
        "class ADDA_irragular_hexahedron_coated_sphere():\n",
        "  \n",
        "  def __init__(self,wavelength, dpl,IH_x,IH_yx_ratio=1.0,IH_zx_ratio=1.0,\n",
        "                                IH_randomly_purturb = True,\n",
        "                                IH_theta_perturb_max=np.pi/20,\n",
        "                                IH_phi_perturb_max=np.pi/20,\n",
        "                                IH_theta_perturb_array=np.array([np.pi/21.0,\n",
        "                                            -np.pi/21.0,\n",
        "                                            -np.pi/18.0,\n",
        "                                             np.pi/25.0,\n",
        "                                            -np.pi/19.0,\n",
        "                                             np.pi/25.0]),\n",
        "                                IH_phi_perturb_array=np.array([np.pi/22.0,\n",
        "                                            -np.pi/23.0,\n",
        "                                            -np.pi/17.0,\n",
        "                                             np.pi/19.0,\n",
        "                                            -np.pi/24.0,\n",
        "                                             np.pi/26.0]),\n",
        "                              write_geom_file=False,plotly_rendering=False):\n",
        "    irr_hex = irragular_hexahedron(IH_x,yx_ratio=IH_yx_ratio,zx_ratio=IH_zx_ratio,\n",
        "                                   randomly_purturb = IH_randomly_purturb,\n",
        "                                   theta_perturb_max=IH_theta_perturb_max,\n",
        "                                   phi_perturb_max=IH_phi_perturb_max,\n",
        "                                   theta_perturb_array=IH_theta_perturb_array,\n",
        "                                   phi_perturb_array=IH_phi_perturb_array)\n",
        "    \n",
        "    \n",
        "    dipole_d=wavelength/dpl\n",
        "    dipole_r=dipole_d/2.0\n",
        "    r0,r1=irr_hex.final_shape.get_domain()\n",
        "    r1mr0=r1-r0 \n",
        "    coated_sphere_diameter = np.sqrt(np.sum(r1mr0**2))\n",
        "    print('coated_sphere_diameter',coated_sphere_diameter)\n",
        "    sphere_center = np.array([r0[i]+r1mr0[i]/2 for i in [0,1,2]])\n",
        "    nx=ny=nz = (coated_sphere_diameter/dipole_d).astype(int)\n",
        "    origin_coorinate = sphere_center - coated_sphere_diameter/2.0\n",
        "    print('domain size',nx,ny,nz)\n",
        "    nmat = np.zeros((nx, ny, nz), dtype=int)\n",
        "    x = np.zeros((nx, ny, nz))\n",
        "    y = np.zeros((nx, ny, nz))\n",
        "    z = np.zeros((nx, ny, nz))\n",
        "    for ix in range(nx):\n",
        "      for iy in range(ny):\n",
        "        for iz in range(nz):\n",
        "          # coordinate of a point in the domain\n",
        "          x[ix,iy,iz] = origin_coorinate[0] + ix*dipole_d + dipole_r\n",
        "          y[ix,iy,iz] = origin_coorinate[1] + iy*dipole_d + dipole_r\n",
        "          z[ix,iy,iz] = origin_coorinate[2] + iz*dipole_d + dipole_r\n",
        "          r=np.array([x[ix,iy,iz],y[ix,iy,iz],z[ix,iy,iz]])\n",
        "          # distance of r to sphere center\n",
        "          d2sc = np.sqrt(np.sum(np.array([r[i]-sphere_center[i] for i in [0,1,2]])**2))\n",
        "          if d2sc<=coated_sphere_diameter/2.0:\n",
        "            nmat[ix,iy,iz] = 1\n",
        "          for f in range(irr_hex.nf):\n",
        "            P0mr=irr_hex.faces[f].P0 - r\n",
        "            P0mr_dot_fn = np.sum(P0mr*irr_hex.faces[f].N)\n",
        "            if (P0mr_dot_fn < 0): break\n",
        "          else:\n",
        "            nmat[ix,iy,iz]=2\n",
        "    \n",
        "    print('x',x.min(),x.max())\n",
        "    print('y',y.min(),y.max())\n",
        "    print('z',z.min(),z.max())\n",
        "    if write_geom_file:\n",
        "      geom_filename = 'irragular_hexahedron_coated_with_sphere_wl{0:04.2f}_dpl{1:03d}_IH_x{2:05.2f}_IH_yxr{3:04.2f}_IH_zxr{4:04.2f}.geom'.format(wavelength,int(dpl),IH_x,IH_yx_ratio,IH_zx_ratio)\n",
        "      print('writing',geom_filename)\n",
        "      with open( geom_filename,'w') as fout:\n",
        "        fout.write('#generated by Zhibo Zhang Python script\\n')\n",
        "        fout.write('#shape: irragular hexahedron coated with sphere \\n')\n",
        "        fout.write('#box size: {0:}x{1:}x{2:} \\n'.format(nx,ny,nz))\n",
        "        for ix in range(nx):\n",
        "          for iy in range(ny):\n",
        "            for iz in range(nz):\n",
        "              if nmat[ix,iy,iz]>0:\n",
        "                fout.write('{0:4d} {1:4d} {2:4d} {3:2d}\\n'.format(ix,iy,iz,nmat[ix,iy,iz]))\n",
        "\n",
        "    if plotly_rendering:\n",
        "      print('doing plotly rendering')\n",
        "      values = nmat.astype(float)\n",
        "      \n",
        "      fig = go.Figure(data=go.Volume(\n",
        "        x=x.flatten(),\n",
        "        y=y.flatten(),\n",
        "        z=z.flatten(),\n",
        "        value=values.flatten(),\n",
        "        isomin=0.9,\n",
        "        isomax=2.1,\n",
        "        opacity=0.3, # needs to be small to see through all surfaces\n",
        "        surface_count=17, # needs to be a large number for good volume rendering\n",
        "        ))\n",
        "      fig.write_image('ADDA_irragular_hexahedron_coated_sphere.png')\n",
        "\n",
        "  "
      ],
      "execution_count": 8,
      "outputs": []
    },
    {
      "cell_type": "code",
      "metadata": {
        "colab": {
          "base_uri": "https://localhost:8080/"
        },
        "id": "VJKmDlFllJKB",
        "outputId": "eebf28e1-8b06-47d6-fca6-3f9afb9285ef"
      },
      "source": [
        "C=ADDA_irragular_hexahedron_coated_sphere(0.55, 50,0.3,IH_yx_ratio=1.0,IH_zx_ratio=1.0, IH_randomly_purturb=False,\n",
        "                              write_geom_file=False,plotly_rendering=True)"
      ],
      "execution_count": 9,
      "outputs": [
        {
          "output_type": "stream",
          "name": "stdout",
          "text": [
            "domain_vortex [[-0.03804248 -0.04985794 -0.01982233]\n",
            " [ 0.34207425  0.35053109  0.31894241]]\n",
            "coated_sphere_diameter 0.6477357859583536\n",
            "domain size 58 58 58\n",
            "x -0.16635201177291967 0.4606479882270805\n",
            "y -0.16803131700021529 0.4589686829997848\n",
            "z -0.16880785402798026 0.45819214597201985\n",
            "doing plotly rendering\n"
          ]
        }
      ]
    },
    {
      "cell_type": "markdown",
      "metadata": {
        "id": "CWGHfrA2v6Wh"
      },
      "source": [
        "## Build Triaxial Ellipsoid"
      ]
    },
    {
      "cell_type": "code",
      "metadata": {
        "id": "4q73zm3OfTZ4"
      },
      "source": [
        "class ADDA_triaxial_ellipsoid(object):\n",
        "  def __init__(self,wavelength, dpl,x,\n",
        "               yx_ratio=1.0,zx_ratio=1.0,\n",
        "               write_geom_file=False,\n",
        "               plotly_rendering = False):\n",
        "    self.x=x\n",
        "    self.y=x*yx_ratio\n",
        "    self.z=x*zx_ratio\n",
        "    a2=(self.x**2)/4.0\n",
        "    b2=(self.y**2)/4.0\n",
        "    c2=(self.z**2)/4.0\n",
        "    dipole_d=wavelength/dpl\n",
        "    dipole_r=dipole_d/2.0 \n",
        "    nx = np.ceil(self.x/dipole_d).astype(int)\n",
        "    ny = np.ceil(self.y/dipole_d).astype(int)\n",
        "    nz = np.ceil(self.z/dipole_d).astype(int)\n",
        "    print('domain size',nx,ny,nz)\n",
        "\n",
        "    # center of the ellipsoid is at [0,0,0]\n",
        "    inside = np.ones((nx, ny, nz), dtype=bool)\n",
        "    xp = np.zeros([nx, ny, nz])\n",
        "    yp = np.zeros([nx, ny, nz])\n",
        "    zp = np.zeros([nx, ny, nz])\n",
        "    for ix in range(nx):\n",
        "      for iy in range(ny):\n",
        "        for iz in range(nz):\n",
        "          # coordinate of a point in the domain\n",
        "          xp[ix,iy,iz] = -self.x/2.0 + ix*dipole_d + dipole_r\n",
        "          yp[ix,iy,iz] = -self.y/2.0 + iy*dipole_d + dipole_r\n",
        "          zp[ix,iy,iz] = -self.z/2.0 + iz*dipole_d + dipole_r\n",
        "          d = np.sum(xp[ix,iy,iz]**2/a2+yp[ix,iy,iz]**2/b2+zp[ix,iy,iz]**2/c2)\n",
        "          if d>1.0:\n",
        "            inside[ix,iy,iz] = False\n",
        "\n",
        "    print('volume',np.sum(inside),inside.size)\n",
        "    self.volume = np.pi/6*self.x*self.y*self.z\n",
        "    self.surf_area = np.pi*4.0*np.power(((self.x/2.0*self.y/2.0)**1.6/3.0+\n",
        "                                        (self.x/2.0*self.z/2.0)**1.6/3.0+\n",
        "                                        (self.y/2.0*self.z/2.0)**1.6/3.0),1/1.6) \n",
        "    if write_geom_file:\n",
        "      with open('triaxial_ellipsoid.geom','w') as fout:\n",
        "        fout.write('#generated by Zhibo Zhang Python script\\n')\n",
        "        fout.write('#shape: triaxial ellipsoid \\n')\n",
        "        fout.write('#box size: {0:}x{1:}x{2:} \\n'.format(nx,ny,nz))\n",
        "        for iz in range(nz):\n",
        "          for iy in range(ny):\n",
        "            for ix in range(nx):\n",
        "              if inside[ix,iy,iz]:\n",
        "                fout.write('{0:4d} {1:4d} {2:4d}\\n'.format(ix,iy,iz))\n",
        "\n",
        "    if plotly_rendering:\n",
        "      # X, Y, Z = np.mgrid[-self.x/2:self.x/2:40j,\n",
        "      #                    -self.y/2:self.y/2:40j,\n",
        "      #                    -self.z/2:self.z/2:40j]\n",
        "      \n",
        "      values = inside.astype(float)\n",
        "      print(values.min(),values.shape,xp.shape)\n",
        "      \n",
        "\n",
        "      fig = go.Figure(data=go.Volume(\n",
        "        x=xp.flatten(),\n",
        "        y=yp.flatten(),\n",
        "        z=zp.flatten(),\n",
        "        value=values.flatten(),\n",
        "        isomin=0.9,\n",
        "        isomax=1.1,\n",
        "        opacity=0.8, # needs to be small to see through all surfaces\n",
        "        surface_count=17, # needs to be a large number for good volume rendering\n",
        "        ))\n",
        "      fig.write_image('ADDA_triaxial_ellipsoid.png')\n",
        "\n",
        "  "
      ],
      "execution_count": 10,
      "outputs": []
    },
    {
      "cell_type": "code",
      "metadata": {
        "colab": {
          "base_uri": "https://localhost:8080/"
        },
        "id": "IWvL6weE8lZc",
        "outputId": "cc2e9168-8035-4927-9aae-2b03c32be1d4"
      },
      "source": [
        "te=ADDA_triaxial_ellipsoid(0.55,30,0.2,1,1.2,False,True)"
      ],
      "execution_count": 11,
      "outputs": [
        {
          "output_type": "stream",
          "name": "stdout",
          "text": [
            "domain size 11 11 14\n",
            "volume 828 1694\n",
            "0.0 (11, 11, 14) (11, 11, 14)\n"
          ]
        }
      ]
    },
    {
      "cell_type": "markdown",
      "metadata": {
        "id": "X_kFtsdrwNn8"
      },
      "source": [
        "## Build Coated Triaxial Ellipsoid"
      ]
    },
    {
      "cell_type": "code",
      "metadata": {
        "id": "Wb091VLhpDLv"
      },
      "source": [
        "class ADDA_coated_ellipsoids(object):\n",
        "  def __init__(self,wavelength, dpl,x1,x2,\n",
        "               y1x1_ratio=1.0,z1x1_ratio=1.0,\n",
        "               y2x2_ratio=1.0,z2x2_ratio=1.0,\n",
        "               write_geom_file=False,\n",
        "               plotly_rendering=False):\n",
        "    \n",
        "    dipole_d=wavelength/dpl\n",
        "    dipole_r=dipole_d/2.0 \n",
        "\n",
        "    # parameters of inner ellipsoid\n",
        "    self.x1=x1\n",
        "    self.y1=x1*y1x1_ratio\n",
        "    self.z1=x1*z1x1_ratio\n",
        "    asq1=(self.x1**2)/4.0 # square of a1 \n",
        "    bsq1=(self.y1**2)/4.0 # square of b1 \n",
        "    csq1=(self.z1**2)/4.0 # square of c1 \n",
        "    # parameters of outer ellipsoid\n",
        "    # the outer ellipsoid must be *larger* than inner ellipsoid\n",
        "    self.x2=x2\n",
        "    self.y2=x2*y2x2_ratio\n",
        "    self.z2=x2*z2x2_ratio\n",
        "    asq2=(self.x2**2)/4.0 # square of a2 \n",
        "    bsq2=(self.y2**2)/4.0 # square of b2 \n",
        "    csq2=(self.z2**2)/4.0 # square of c2\n",
        "  \n",
        "    # nx1 = np.ceil(self.x1/dipole_d).astype(int)\n",
        "    # ny1 = np.ceil(self.y1/dipole_d).astype(int)\n",
        "    # nz1 = np.ceil(self.z1/dipole_d).astype(int)\n",
        "    nx = np.ceil(self.x2/dipole_d).astype(int)\n",
        "    ny = np.ceil(self.y2/dipole_d).astype(int)\n",
        "    nz = np.ceil(self.z2/dipole_d).astype(int)\n",
        "    # nx,ny,nz = max(nx1,nx2),max(ny1,ny2),max(nz1,nz2)\n",
        "    print('domain size',nx,ny,nz)\n",
        "    # center of the ellipsoid is at [0,0,0]\n",
        "    inside = np.zeros((nx, ny, nz), dtype=bool)\n",
        "    nmat   = np.zeros((nx, ny, nz), dtype=int)\n",
        "    xp = np.zeros([nx, ny, nz])\n",
        "    yp = np.zeros([nx, ny, nz])\n",
        "    zp = np.zeros([nx, ny, nz])\n",
        "\n",
        "    for ix in range(nx):\n",
        "      for iy in range(ny):\n",
        "        for iz in range(nz):\n",
        "          # coordinate of a point in the domain\n",
        "          xp[ix,iy,iz] = -self.x2/2.0 + ix*dipole_d + dipole_r\n",
        "          yp[ix,iy,iz] = -self.y2/2.0 + iy*dipole_d + dipole_r\n",
        "          zp[ix,iy,iz] = -self.z2/2.0 + iz*dipole_d + dipole_r\n",
        "          d1 = np.sum(xp[ix,iy,iz]**2/asq1+yp[ix,iy,iz]**2/bsq1+zp[ix,iy,iz]**2/csq1)\n",
        "          d2 = np.sum(xp[ix,iy,iz]**2/asq2+yp[ix,iy,iz]**2/bsq2+zp[ix,iy,iz]**2/csq2)\n",
        "          if (d2<=1) and (d1>1):\n",
        "            nmat[ix,iy,iz] = 1\n",
        "            inside[ix,iy,iz] = True\n",
        "          elif d1<=1:\n",
        "            nmat[ix,iy,iz] = 2\n",
        "            inside[ix,iy,iz] = True\n",
        "\n",
        "    print('volume',np.sum(inside),inside.size)\n",
        "    self.volume = np.pi/6*self.x2*self.y2*self.z2\n",
        "    self.surf_area = np.pi*4.0*np.power(((self.x2/2.0*self.y2/2.0)**1.6/3.0+\n",
        "                                        (self.x2/2.0*self.z2/2.0)**1.6/3.0+\n",
        "                                        (self.y2/2.0*self.z2/2.0)**1.6/3.0),1/1.6) \n",
        "    if write_geom_file:\n",
        "      with open('coated_ellipsoid.geom','w') as fout:\n",
        "        fout.write('#generated by Zhibo Zhang Python script\\n')\n",
        "        fout.write('#shape: coated ellipsoid \\n')\n",
        "        fout.write('#box size: {0:}x{1:}x{2:} \\n'.format(nx,ny,nz))\n",
        "        for iz in range(nz):\n",
        "          for iy in range(ny):\n",
        "            for ix in range(nx):\n",
        "              if nmat[ix,iy,iz]>0:\n",
        "                fout.write('{0:4d} {1:4d} {2:4d} {3:2d}\\n'.format(ix,iy,iz,nmat[ix,iy,iz]))\n",
        "    if plotly_rendering:\n",
        "      # X, Y, Z = np.mgrid[-self.x/2:self.x/2:40j,\n",
        "      #                    -self.y/2:self.y/2:40j,\n",
        "      #                    -self.z/2:self.z/2:40j]\n",
        "      \n",
        "      values = nmat.astype(float)\n",
        "      print(values.min(),values.shape,xp.shape)\n",
        "      \n",
        "\n",
        "      fig = go.Figure(data=go.Volume(\n",
        "        x=xp.flatten(),\n",
        "        y=yp.flatten(),\n",
        "        z=zp.flatten(),\n",
        "        value=values.flatten(),\n",
        "        isomin=0.0,\n",
        "        isomax=2.1,\n",
        "        opacity=0.1, # needs to be small to see through all surfaces\n",
        "        surface_count=17, # needs to be a large number for good volume rendering\n",
        "        ))\n",
        "      fig.write_image('ADDA_coated_ellipsoids.png')\n"
      ],
      "execution_count": 12,
      "outputs": []
    },
    {
      "cell_type": "code",
      "metadata": {
        "colab": {
          "base_uri": "https://localhost:8080/"
        },
        "id": "llAP1coGwWVk",
        "outputId": "7ec21c08-0bfd-45e6-bc2a-eb80fa3cb68d"
      },
      "source": [
        "ace = ADDA_coated_ellipsoids(0.5, 150,0.1,0.13,\\\n",
        "                             y1x1_ratio=1.0,z1x1_ratio=2.0,\\\n",
        "                             y2x2_ratio=1.0,z2x2_ratio=2.0,write_geom_file=True,\n",
        "                             plotly_rendering=True)"
      ],
      "execution_count": 13,
      "outputs": [
        {
          "output_type": "stream",
          "name": "stdout",
          "text": [
            "domain size 39 39 78\n",
            "volume 62158 118638\n",
            "0.0 (39, 39, 78) (39, 39, 78)\n"
          ]
        }
      ]
    },
    {
      "cell_type": "markdown",
      "metadata": {
        "id": "gY6RfNpzwDvI"
      },
      "source": [
        "## Build Coated Spheres"
      ]
    },
    {
      "cell_type": "code",
      "metadata": {
        "id": "GK63YbQNH6dw"
      },
      "source": [
        "class ADDA_coated_sphere(object):\n",
        "  def __init__(self,wavelength, dpl,d,\n",
        "               din_to_d=0.5,\n",
        "               write_geom_file=False):\n",
        "    self.d=d\n",
        "    self.din=d*din_to_d\n",
        "    print(self.d,self.din)\n",
        "    dipole_d=wavelength/dpl\n",
        "    dipole_r=dipole_d/2.0 \n",
        "    nx = ny = nz = np.ceil(self.d/dipole_d).astype(int)\n",
        "    print('domain size',nx,ny,nz)\n",
        "    nmat = np.zeros((nx, ny, nz),dtype=int)\n",
        "    for ix in range(nx):\n",
        "      for iy in range(ny):\n",
        "        for iz in range(nz):\n",
        "          # coordinate of a point in the domain\n",
        "          xp = -self.d/2.0 + ix*dipole_d + dipole_r\n",
        "          yp = -self.d/2.0 + iy*dipole_d + dipole_r\n",
        "          zp = -self.d/2.0 + iz*dipole_d + dipole_r\n",
        "          d = np.sqrt(np.sum(xp**2+yp**2+zp**2))\n",
        "          if (d<self.d/2.0) and (d>=self.din/2.0):\n",
        "            nmat[ix,iy,iz] = 1\n",
        "          elif d<self.din/2.0:\n",
        "            nmat[ix,iy,iz] = 2\n",
        "\n",
        "    if write_geom_file:\n",
        "      with open('coated_sphere.geom','w') as fout:\n",
        "        fout.write('#generated by Zhibo Zhang Python script\\n')\n",
        "        fout.write('#shape: coated sphere \\n')\n",
        "        fout.write('#box size: {0:}x{1:}x{2:} \\n'.format(nx,ny,nz))\n",
        "        fout.write('Nmat=2 \\n')\n",
        "        for iz in range(nz):\n",
        "          for iy in range(ny):\n",
        "            for ix in range(nx):\n",
        "              if nmat[ix,iy,iz]>0:\n",
        "                fout.write('{0:4d} {1:4d} {2:4d} {3:2d}\\n'.format(ix,iy,iz,nmat[ix,iy,iz]))"
      ],
      "execution_count": 14,
      "outputs": []
    },
    {
      "cell_type": "code",
      "metadata": {
        "colab": {
          "base_uri": "https://localhost:8080/"
        },
        "id": "zDYSJ6Y43epa",
        "outputId": "6c9e96a1-6622-44f6-9881-23966fe845bb"
      },
      "source": [
        "cs = ADDA_coated_sphere(0.5,15,1.0,0.99,True)"
      ],
      "execution_count": 15,
      "outputs": [
        {
          "output_type": "stream",
          "name": "stdout",
          "text": [
            "1.0 0.99\n",
            "domain size 30 30 30\n"
          ]
        }
      ]
    },
    {
      "cell_type": "code",
      "metadata": {
        "colab": {
          "base_uri": "https://localhost:8080/",
          "height": 232
        },
        "id": "-8jVRuOOC477",
        "outputId": "5f846869-8363-40ef-9bef-f303d05f6cd5"
      },
      "source": [
        "print(type(Cube_object.vertices[0].J))\n",
        "f0=np.array([Cube_object.vertices[i].J for i in [0,1,2,3]])\n",
        "face0=pyny.Polygon(f0)\n",
        "f1=np.array([Cube_object.vertices[i].J for i in [2,3,6,7]])\n",
        "face1=pyny.Polygon(f1)\n",
        "f2=np.array([Cube_object.vertices[i].J for i in [4,5,6,7]])\n",
        "face2=pyny.Polygon(f2)\n",
        "f3=np.array([Cube_object.vertices[i].J for i in [0,1,4,5]])\n",
        "face3=pyny.Polygon(f3)\n",
        "f4=np.array([Cube_object.vertices[i].J for i in [1,3,5,7]])\n",
        "face4=pyny.Polygon(f4)\n",
        "f5=np.array([Cube_object.vertices[i].J for i in [0,2,4,6]])\n",
        "face5=pyny.Polygon(f5)\n",
        "\n",
        "cube_shape=pyny.Polyhedron([face0,face1,face2,face3,face4,face5])\n",
        "cube_shape.plot(color='t')\n",
        "\n",
        "# poly3d=cube_shape.get_plotable3d()\n",
        "# print(type(poly3d[0]))\n",
        "# from mpl_toolkits.mplot3d.art3d import Poly3DCollection, Line3DCollection\n",
        "# fig = plt.figure()\n",
        "# ax = fig.add_subplot(111, projection='3d')\n",
        "# for f in poly3d:\n",
        "#   ax.add_collection3d(f,cmap=\"hot\", alpha=0.9)\n",
        "# #ax.add_collection3d(Line3DCollection(poly3d, colors='k', linewidths=0.2, linestyles=':'))\n",
        "\n",
        "plt.show()"
      ],
      "execution_count": null,
      "outputs": [
        {
          "output_type": "error",
          "ename": "NameError",
          "evalue": "ignored",
          "traceback": [
            "\u001b[0;31m---------------------------------------------------------------------------\u001b[0m",
            "\u001b[0;31mNameError\u001b[0m                                 Traceback (most recent call last)",
            "\u001b[0;32m<ipython-input-12-7411878209a0>\u001b[0m in \u001b[0;36m<module>\u001b[0;34m()\u001b[0m\n\u001b[0;32m----> 1\u001b[0;31m \u001b[0mprint\u001b[0m\u001b[0;34m(\u001b[0m\u001b[0mtype\u001b[0m\u001b[0;34m(\u001b[0m\u001b[0mCube_object\u001b[0m\u001b[0;34m.\u001b[0m\u001b[0mvertices\u001b[0m\u001b[0;34m[\u001b[0m\u001b[0;36m0\u001b[0m\u001b[0;34m]\u001b[0m\u001b[0;34m.\u001b[0m\u001b[0mJ\u001b[0m\u001b[0;34m)\u001b[0m\u001b[0;34m)\u001b[0m\u001b[0;34m\u001b[0m\u001b[0;34m\u001b[0m\u001b[0m\n\u001b[0m\u001b[1;32m      2\u001b[0m \u001b[0mf0\u001b[0m\u001b[0;34m=\u001b[0m\u001b[0mnp\u001b[0m\u001b[0;34m.\u001b[0m\u001b[0marray\u001b[0m\u001b[0;34m(\u001b[0m\u001b[0;34m[\u001b[0m\u001b[0mCube_object\u001b[0m\u001b[0;34m.\u001b[0m\u001b[0mvertices\u001b[0m\u001b[0;34m[\u001b[0m\u001b[0mi\u001b[0m\u001b[0;34m]\u001b[0m\u001b[0;34m.\u001b[0m\u001b[0mJ\u001b[0m \u001b[0;32mfor\u001b[0m \u001b[0mi\u001b[0m \u001b[0;32min\u001b[0m \u001b[0;34m[\u001b[0m\u001b[0;36m0\u001b[0m\u001b[0;34m,\u001b[0m\u001b[0;36m1\u001b[0m\u001b[0;34m,\u001b[0m\u001b[0;36m2\u001b[0m\u001b[0;34m,\u001b[0m\u001b[0;36m3\u001b[0m\u001b[0;34m]\u001b[0m\u001b[0;34m]\u001b[0m\u001b[0;34m)\u001b[0m\u001b[0;34m\u001b[0m\u001b[0;34m\u001b[0m\u001b[0m\n\u001b[1;32m      3\u001b[0m \u001b[0mface0\u001b[0m\u001b[0;34m=\u001b[0m\u001b[0mpyny\u001b[0m\u001b[0;34m.\u001b[0m\u001b[0mPolygon\u001b[0m\u001b[0;34m(\u001b[0m\u001b[0mf0\u001b[0m\u001b[0;34m)\u001b[0m\u001b[0;34m\u001b[0m\u001b[0;34m\u001b[0m\u001b[0m\n\u001b[1;32m      4\u001b[0m \u001b[0mf1\u001b[0m\u001b[0;34m=\u001b[0m\u001b[0mnp\u001b[0m\u001b[0;34m.\u001b[0m\u001b[0marray\u001b[0m\u001b[0;34m(\u001b[0m\u001b[0;34m[\u001b[0m\u001b[0mCube_object\u001b[0m\u001b[0;34m.\u001b[0m\u001b[0mvertices\u001b[0m\u001b[0;34m[\u001b[0m\u001b[0mi\u001b[0m\u001b[0;34m]\u001b[0m\u001b[0;34m.\u001b[0m\u001b[0mJ\u001b[0m \u001b[0;32mfor\u001b[0m \u001b[0mi\u001b[0m \u001b[0;32min\u001b[0m \u001b[0;34m[\u001b[0m\u001b[0;36m2\u001b[0m\u001b[0;34m,\u001b[0m\u001b[0;36m3\u001b[0m\u001b[0;34m,\u001b[0m\u001b[0;36m6\u001b[0m\u001b[0;34m,\u001b[0m\u001b[0;36m7\u001b[0m\u001b[0;34m]\u001b[0m\u001b[0;34m]\u001b[0m\u001b[0;34m)\u001b[0m\u001b[0;34m\u001b[0m\u001b[0;34m\u001b[0m\u001b[0m\n\u001b[1;32m      5\u001b[0m \u001b[0mface1\u001b[0m\u001b[0;34m=\u001b[0m\u001b[0mpyny\u001b[0m\u001b[0;34m.\u001b[0m\u001b[0mPolygon\u001b[0m\u001b[0;34m(\u001b[0m\u001b[0mf1\u001b[0m\u001b[0;34m)\u001b[0m\u001b[0;34m\u001b[0m\u001b[0;34m\u001b[0m\u001b[0m\n",
            "\u001b[0;31mNameError\u001b[0m: name 'Cube_object' is not defined"
          ]
        }
      ]
    },
    {
      "cell_type": "code",
      "metadata": {
        "id": "GCsMntPQJFRu"
      },
      "source": [
        "class nonsymmetric_hexahedra():\n",
        "  def __init__(self,):\n",
        "    theta_perturb_max=np.pi/10.0\n",
        "    theta_perturb=np.random.randn(6)*theta_perturb_max\n",
        "    phi_perturb_max=np.pi/10.0\n",
        "    phi_perturb=np.random.randn(6)*phi_perturb_max\n",
        "    self.faces = []\n",
        "    N0_theta,N0_phi = np.pi/2.0+theta_perturb[0], -np.pi/2.0 + phi_perturb[0]\n",
        "    P0=np.array([0.5,0,0.5])\n",
        "    self.faces.append(plane(N0_theta, N0_phi,P0))\n",
        "    print('face0',self.faces[-1].N)\n",
        "\n",
        "    N1_theta,N1_phi = np.pi/2.0+theta_perturb[1], 0.0 + phi_perturb[0] \n",
        "    P1=np.array([1.0,0.5,0.5])\n",
        "    self.faces.append(plane(N1_theta, N1_phi,P1))\n",
        "    print('face1',self.faces[-1].N)\n",
        "\n",
        "    N2_theta,N2_phi = np.pi/2.0+theta_perturb[2], np.pi/2.0 + phi_perturb[0]\n",
        "    P2=np.array([0.5,1.0,0.5])\n",
        "    self.faces.append(plane(N2_theta, N2_phi,P2))\n",
        "    print('face2',self.faces[-1].N)\n",
        "\n",
        "    N3_theta,N3_phi = np.pi/2.0+theta_perturb[3], np.pi + phi_perturb[0]\n",
        "    P3=np.array([0.0,0.5,0.5])\n",
        "    self.faces.append(plane(N3_theta, N3_phi,P3))\n",
        "    print('face3',self.faces[-1].N)\n",
        "\n",
        "    N4_theta,N4_phi = np.pi+theta_perturb[4], 0.0 + phi_perturb[0]\n",
        "    P4=np.array([0.5,0.5,0.0])\n",
        "    self.faces.append(plane(N4_theta, N4_phi,P4))\n",
        "    print('face4',self.faces[-1].N)\n",
        "\n",
        "    N5_theta,N5_phi = 0.0+theta_perturb[5], 0.0 + phi_perturb[0]\n",
        "    P5=np.array([0.5,0.5,1.0])\n",
        "    self.faces.append(plane(N5_theta, N5_phi,P5))\n",
        "    print('face5',self.faces[-1].N)\n",
        "\n",
        "    self.vertices = []\n",
        "    P=intersect([self.faces[0],self.faces[3],self.faces[4]])\n",
        "    self.vertices.append(P)\n",
        "\n",
        "    P=intersect([self.faces[0],self.faces[3],self.faces[5]])\n",
        "    self.vertices.append(P)\n",
        "\n",
        "    P=intersect([self.faces[0],self.faces[1],self.faces[4]])\n",
        "    self.vertices.append(P)\n",
        "\n",
        "    P=intersect([self.faces[0],self.faces[1],self.faces[5]])\n",
        "    self.vertices.append(P)\n",
        "\n",
        "    P=intersect([self.faces[2],self.faces[3],self.faces[4]])\n",
        "    self.vertices.append(P)\n",
        "\n",
        "    P=intersect([self.faces[2],self.faces[3],self.faces[5]])\n",
        "    self.vertices.append(P)\n",
        "\n",
        "    P=intersect([self.faces[2],self.faces[1],self.faces[4]])\n",
        "    self.vertices.append(P)\n",
        "\n",
        "    P=intersect([self.faces[2],self.faces[1],self.faces[5]])\n",
        "    self.vertices.append(P)"
      ],
      "execution_count": null,
      "outputs": []
    },
    {
      "cell_type": "code",
      "metadata": {
        "colab": {
          "base_uri": "https://localhost:8080/",
          "height": 421
        },
        "id": "ERc2eGYBNG38",
        "outputId": "1cf34e79-9b4b-4e14-d07e-f562440dfc8a"
      },
      "source": [
        "nh=nonsymmetric_hexahedra()\n",
        "\n",
        "f0=np.array([nh.vertices[i].J for i in [0,1,2,3]])\n",
        "face0=pyny.Polygon(f0)\n",
        "f1=np.array([nh.vertices[i].J for i in [2,3,6,7]])\n",
        "face1=pyny.Polygon(f1)\n",
        "f2=np.array([nh.vertices[i].J for i in [4,5,6,7]])\n",
        "face2=pyny.Polygon(f2)\n",
        "f3=np.array([nh.vertices[i].J for i in [0,1,4,5]])\n",
        "face3=pyny.Polygon(f3)\n",
        "f4=np.array([nh.vertices[i].J for i in [1,3,5,7]])\n",
        "face4=pyny.Polygon(f4)\n",
        "f5=np.array([nh.vertices[i].J for i in [0,2,4,6]])\n",
        "face5=pyny.Polygon(f5)\n",
        "\n",
        "hexahedra=pyny.Polyhedron([face0,face1,face2,face3,face4,face5])\n",
        "hexahedra.plot(color='t')"
      ],
      "execution_count": null,
      "outputs": [
        {
          "output_type": "stream",
          "name": "stdout",
          "text": [
            "face0 [-0.06033086 -0.99352066 -0.09631659]\n",
            "face1 [ 0.95560917 -0.05802871 -0.28886639]\n",
            "face2 [ 0.05749228  0.94677532 -0.31671934]\n",
            "face3 [-0.99191217  0.06023318  0.11172382]\n",
            "face4 [-0.06219329  0.00377664 -0.99805698]\n",
            "face5 [-0.13106944  0.0079591   0.99134124]\n"
          ]
        },
        {
          "output_type": "display_data",
          "data": {
            "image/png": "[encoded data removed]",
            "text/plain": [
              "<Figure size 432x288 with 1 Axes>"
            ]
          },
          "metadata": {
            "needs_background": "light"
          }
        }
      ]
    },
    {
      "cell_type": "code",
      "metadata": {
        "colab": {
          "base_uri": "https://localhost:8080/"
        },
        "id": "N02yy1YIGw4E",
        "outputId": "5f9750b5-fa4b-4649-af12-56a32f85f29f"
      },
      "source": [
        "hexahedra.get_area()\n",
        "hexahedra.get_domain()"
      ],
      "execution_count": null,
      "outputs": [
        {
          "output_type": "execute_result",
          "data": {
            "text/plain": [
              "array([[-0.07793023, -0.09615378, -0.02133692],\n",
              "       [ 1.21794302,  1.17221277,  1.08967428]])"
            ]
          },
          "metadata": {},
          "execution_count": 15
        }
      ]
    }
  ]
}