{
  "nbformat": 4,
  "nbformat_minor": 0,
  "metadata": {
    "colab": {
      "name": "GRS_rendering.ipynb",
      "provenance": [],
      "collapsed_sections": [],
      "authorship_tag": "ABX9TyO6csQ8I2hFDt79NsPLozem",
      "include_colab_link": true
    },
    "kernelspec": {
      "name": "python3",
      "display_name": "Python 3"
    },
    "language_info": {
      "name": "python"
    }
  },
  "cells": [
    {
      "cell_type": "markdown",
      "metadata": {
        "id": "view-in-github",
        "colab_type": "text"
      },
      "source": [
        "<a href=\"https://colab.research.google.com/github/zzbatmos/ADDA_shape_builder/blob/Colab/GRS_rendering.ipynb\" target=\"_parent\"><img src=\"https://colab.research.google.com/assets/colab-badge.svg\" alt=\"Open In Colab\"/></a>"
      ]
    },
    {
      "cell_type": "code",
      "metadata": {
        "id": "RvoA-9u3Ck49"
      },
      "source": [
        "import numpy as np\n",
        "import matplotlib.pyplot as plt\n",
        "import importlib\n",
        "import plotly.graph_objects as go\n",
        "import scipy.io\n"
      ],
      "execution_count": 34,
      "outputs": []
    },
    {
      "cell_type": "code",
      "metadata": {
        "id": "VvNNf2lDC6zS"
      },
      "source": [
        "mat = scipy.io.loadmat('adda_coated_GRS.mat')"
      ],
      "execution_count": 35,
      "outputs": []
    },
    {
      "cell_type": "code",
      "metadata": {
        "id": "hERLw0jXDE4o"
      },
      "source": [
        "values = mat['nmat'].astype(float)\n",
        "x=mat['Xcor']\n",
        "y=mat['Ycor']\n",
        "z=mat['Zcor']\n"
      ],
      "execution_count": 36,
      "outputs": []
    },
    {
      "cell_type": "code",
      "metadata": {
        "id": "cPrBl3MoDbha"
      },
      "source": [
        "\n",
        "fig = go.Figure(data=go.Volume(\n",
        "  x=x.flatten(),\n",
        "  y=y.flatten(),\n",
        "  z=z.flatten(),\n",
        "  value=values.flatten(),\n",
        "  isomin=0.9,\n",
        "  isomax=2.1,\n",
        "  opacity=0.3, # needs to be small to see through all surfaces\n",
        "  surface_count=17, # needs to be a large number for good volume rendering\n",
        "  ))\n",
        "fig.show()\n"
      ],
      "execution_count": null,
      "outputs": []
    },
    {
      "cell_type": "code",
      "metadata": {
        "id": "bB4TvDooFzrN"
      },
      "source": [
        ""
      ],
      "execution_count": null,
      "outputs": []
    }
  ]
}